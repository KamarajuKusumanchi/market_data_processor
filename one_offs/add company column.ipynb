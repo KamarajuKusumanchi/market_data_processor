{
 "cells": [
  {
   "cell_type": "code",
   "execution_count": 1,
   "metadata": {
    "collapsed": true
   },
   "outputs": [],
   "source": [
    "# Idea is to add a company column to the ceo.csv file\n",
    "import pandas as pd\n",
    "\n",
    "input_file_name = '../../market_data/ceo.csv'\n",
    "\n",
    "# Get the header and data\n",
    "with open(input_file_name) as fh:\n",
    "    header = [fh.readline() for line in range(4)]\n",
    "    df = pd.read_csv(fh)\n",
    "# print(header)\n",
    "# print(df)"
   ]
  },
  {
   "cell_type": "code",
   "execution_count": 2,
   "metadata": {
    "collapsed": true
   },
   "outputs": [],
   "source": [
    "if 'company' not in df.columns:\n",
    "    df.insert(1, 'company', None)"
   ]
  },
  {
   "cell_type": "code",
   "execution_count": 3,
   "metadata": {
    "collapsed": true
   },
   "outputs": [],
   "source": [
    "# Use different output file name so we can look at the changes.\n",
    "output_file_name = 'ceo.csv'\n",
    "with open(output_file_name, 'w') as fh:\n",
    "    for line in header:\n",
    "        fh.write('%s' % line)\n",
    "    df.to_csv(fh, index=False, line_terminator='\\n')"
   ]
  }
 ],
 "metadata": {
  "kernelspec": {
   "display_name": "Python 3",
   "language": "python",
   "name": "python3"
  },
  "language_info": {
   "codemirror_mode": {
    "name": "ipython",
    "version": 3
   },
   "file_extension": ".py",
   "mimetype": "text/x-python",
   "name": "python",
   "nbconvert_exporter": "python",
   "pygments_lexer": "ipython3",
   "version": "3.6.8"
  }
 },
 "nbformat": 4,
 "nbformat_minor": 2
}
